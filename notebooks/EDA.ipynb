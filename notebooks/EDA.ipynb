{
 "cells": [
  {
   "cell_type": "code",
   "execution_count": null,
   "metadata": {
    "vscode": {
     "languageId": "plaintext"
    }
   },
   "outputs": [],
   "source": [
    "import pandas as pandas\n",
    "import plotly.express as px\n",
    "car_data = pd.read_csv('vehicles_us.csv')\n",
    "\n",
    "fig = px.histogram(car_data, x=\"odometer\", title=\"Distribución del odómetro\")\n",
    "fig.show()"
   ]
  },
  {
   "cell_type": "code",
   "execution_count": null,
   "metadata": {
    "vscode": {
     "languageId": "plaintext"
    }
   },
   "outputs": [],
   "source": [
    "fig = px.scatter(car_data, x=\"odometer\", y=\"price\", title=\"Precio vs Odómetro)\n",
    "fig.show()"
   ]
  }
 ],
 "metadata": {
  "language_info": {
   "name": "python"
  }
 },
 "nbformat": 4,
 "nbformat_minor": 2
}
